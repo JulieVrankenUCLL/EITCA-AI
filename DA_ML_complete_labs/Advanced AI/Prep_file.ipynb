{
 "cells": [
  {
   "cell_type": "code",
   "execution_count": 13,
   "metadata": {},
   "outputs": [],
   "source": [
    "import pandas as pd"
   ]
  },
  {
   "cell_type": "code",
   "execution_count": 14,
   "metadata": {},
   "outputs": [],
   "source": [
    "travel_dataset = pd.read_csv(\"data/Prep/Lab_5_dataset_extended.csv\")"
   ]
  },
  {
   "cell_type": "code",
   "execution_count": 15,
   "metadata": {},
   "outputs": [
    {
     "data": {
      "text/html": [
       "<div>\n",
       "<style scoped>\n",
       "    .dataframe tbody tr th:only-of-type {\n",
       "        vertical-align: middle;\n",
       "    }\n",
       "\n",
       "    .dataframe tbody tr th {\n",
       "        vertical-align: top;\n",
       "    }\n",
       "\n",
       "    .dataframe thead th {\n",
       "        text-align: right;\n",
       "    }\n",
       "</style>\n",
       "<table border=\"1\" class=\"dataframe\">\n",
       "  <thead>\n",
       "    <tr style=\"text-align: right;\">\n",
       "      <th></th>\n",
       "      <th>sales_id</th>\n",
       "      <th>age</th>\n",
       "      <th>country</th>\n",
       "      <th>membership_status</th>\n",
       "      <th>previous_purchases</th>\n",
       "      <th>destination</th>\n",
       "      <th>stay_length</th>\n",
       "      <th>guests</th>\n",
       "      <th>travel_month</th>\n",
       "      <th>months_before_travel</th>\n",
       "      <th>earlybird_discount</th>\n",
       "      <th>package_Type</th>\n",
       "      <th>cost</th>\n",
       "      <th>rating</th>\n",
       "      <th>margin</th>\n",
       "      <th>additional_services_cost</th>\n",
       "    </tr>\n",
       "  </thead>\n",
       "  <tbody>\n",
       "    <tr>\n",
       "      <th>0</th>\n",
       "      <td>1</td>\n",
       "      <td>47</td>\n",
       "      <td>Italy</td>\n",
       "      <td>standard</td>\n",
       "      <td>3</td>\n",
       "      <td>Tokyo</td>\n",
       "      <td>8</td>\n",
       "      <td>3</td>\n",
       "      <td>2</td>\n",
       "      <td>2</td>\n",
       "      <td>False</td>\n",
       "      <td>Relaxation</td>\n",
       "      <td>2899.260</td>\n",
       "      <td>6</td>\n",
       "      <td>1865.224666</td>\n",
       "      <td>527.178522</td>\n",
       "    </tr>\n",
       "    <tr>\n",
       "      <th>1</th>\n",
       "      <td>2</td>\n",
       "      <td>37</td>\n",
       "      <td>Canada</td>\n",
       "      <td>standard</td>\n",
       "      <td>6</td>\n",
       "      <td>Cairo</td>\n",
       "      <td>4</td>\n",
       "      <td>2</td>\n",
       "      <td>8</td>\n",
       "      <td>1</td>\n",
       "      <td>False</td>\n",
       "      <td>Cultural</td>\n",
       "      <td>986.720</td>\n",
       "      <td>5</td>\n",
       "      <td>880.258498</td>\n",
       "      <td>167.856483</td>\n",
       "    </tr>\n",
       "    <tr>\n",
       "      <th>2</th>\n",
       "      <td>3</td>\n",
       "      <td>49</td>\n",
       "      <td>Australia</td>\n",
       "      <td>silver</td>\n",
       "      <td>3</td>\n",
       "      <td>Paris</td>\n",
       "      <td>4</td>\n",
       "      <td>2</td>\n",
       "      <td>12</td>\n",
       "      <td>1</td>\n",
       "      <td>True</td>\n",
       "      <td>Adventure</td>\n",
       "      <td>1610.700</td>\n",
       "      <td>6</td>\n",
       "      <td>914.260333</td>\n",
       "      <td>298.251643</td>\n",
       "    </tr>\n",
       "    <tr>\n",
       "      <th>3</th>\n",
       "      <td>4</td>\n",
       "      <td>62</td>\n",
       "      <td>Germany</td>\n",
       "      <td>gold</td>\n",
       "      <td>7</td>\n",
       "      <td>Paris</td>\n",
       "      <td>8</td>\n",
       "      <td>1</td>\n",
       "      <td>12</td>\n",
       "      <td>11</td>\n",
       "      <td>True</td>\n",
       "      <td>Adventure</td>\n",
       "      <td>2155.608</td>\n",
       "      <td>8</td>\n",
       "      <td>1512.805702</td>\n",
       "      <td>415.490184</td>\n",
       "    </tr>\n",
       "    <tr>\n",
       "      <th>4</th>\n",
       "      <td>5</td>\n",
       "      <td>36</td>\n",
       "      <td>UK</td>\n",
       "      <td>gold</td>\n",
       "      <td>4</td>\n",
       "      <td>Rio</td>\n",
       "      <td>5</td>\n",
       "      <td>3</td>\n",
       "      <td>8</td>\n",
       "      <td>4</td>\n",
       "      <td>False</td>\n",
       "      <td>Relaxation</td>\n",
       "      <td>1183.840</td>\n",
       "      <td>7</td>\n",
       "      <td>839.050708</td>\n",
       "      <td>200.576767</td>\n",
       "    </tr>\n",
       "  </tbody>\n",
       "</table>\n",
       "</div>"
      ],
      "text/plain": [
       "   sales_id  age    country membership_status  previous_purchases destination  \\\n",
       "0         1   47      Italy          standard                   3       Tokyo   \n",
       "1         2   37     Canada          standard                   6       Cairo   \n",
       "2         3   49  Australia            silver                   3       Paris   \n",
       "3         4   62    Germany              gold                   7       Paris   \n",
       "4         5   36         UK              gold                   4         Rio   \n",
       "\n",
       "   stay_length  guests  travel_month  months_before_travel  \\\n",
       "0            8       3             2                     2   \n",
       "1            4       2             8                     1   \n",
       "2            4       2            12                     1   \n",
       "3            8       1            12                    11   \n",
       "4            5       3             8                     4   \n",
       "\n",
       "   earlybird_discount package_Type      cost  rating       margin  \\\n",
       "0               False   Relaxation  2899.260       6  1865.224666   \n",
       "1               False     Cultural   986.720       5   880.258498   \n",
       "2                True    Adventure  1610.700       6   914.260333   \n",
       "3                True    Adventure  2155.608       8  1512.805702   \n",
       "4               False   Relaxation  1183.840       7   839.050708   \n",
       "\n",
       "   additional_services_cost  \n",
       "0                527.178522  \n",
       "1                167.856483  \n",
       "2                298.251643  \n",
       "3                415.490184  \n",
       "4                200.576767  "
      ]
     },
     "execution_count": 15,
     "metadata": {},
     "output_type": "execute_result"
    }
   ],
   "source": [
    "travel_dataset.head()"
   ]
  },
  {
   "cell_type": "code",
   "execution_count": 16,
   "metadata": {},
   "outputs": [
    {
     "data": {
      "text/plain": [
       "(50100, 16)"
      ]
     },
     "execution_count": 16,
     "metadata": {},
     "output_type": "execute_result"
    }
   ],
   "source": [
    "travel_dataset.shape"
   ]
  },
  {
   "cell_type": "code",
   "execution_count": 17,
   "metadata": {},
   "outputs": [],
   "source": [
    "tokyo = travel_dataset[\"destination\"] == \"Tokyo\"\n",
    "travel_dataset.loc[tokyo, \"cost\"] *= 158"
   ]
  },
  {
   "cell_type": "code",
   "execution_count": 18,
   "metadata": {},
   "outputs": [],
   "source": [
    "travel_dataset.to_csv(\"data/input/travel_dataset.csv\",index=False)"
   ]
  }
 ],
 "metadata": {
  "kernelspec": {
   "display_name": ".venv",
   "language": "python",
   "name": "python3"
  },
  "language_info": {
   "codemirror_mode": {
    "name": "ipython",
    "version": 3
   },
   "file_extension": ".py",
   "mimetype": "text/x-python",
   "name": "python",
   "nbconvert_exporter": "python",
   "pygments_lexer": "ipython3",
   "version": "3.11.7"
  }
 },
 "nbformat": 4,
 "nbformat_minor": 2
}
